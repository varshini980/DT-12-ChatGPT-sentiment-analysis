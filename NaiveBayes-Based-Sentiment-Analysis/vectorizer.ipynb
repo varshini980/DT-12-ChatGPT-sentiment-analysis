{
 "cells": [
  {
   "cell_type": "code",
   "execution_count": 1,
   "metadata": {},
   "outputs": [
    {
     "name": "stdout",
     "output_type": "stream",
     "text": [
      "Vectorizer saved successfully!\n"
     ]
    }
   ],
   "source": [
    "import pickle\n",
    "from sklearn.feature_extraction.text import TfidfVectorizer\n",
    "\n",
    "# Example training dataset (replace with your actual dataset)\n",
    "corpus = [\n",
    "    \"I love this product! It's amazing.\",\n",
    "    \"This is the worst experience ever.\",\n",
    "    \"I am very happy with the service.\",\n",
    "    \"I hate this! So disappointed.\",\n",
    "    \"Not bad, could be better.\",\n",
    "]\n",
    "\n",
    "# Initialize and fit the vectorizer\n",
    "vectorizer = TfidfVectorizer(stop_words='english')\n",
    "X = vectorizer.fit_transform(corpus)  # Convert text to numerical format\n",
    "\n",
    "# Save the vectorizer\n",
    "with open(\"vectorizer.pkl\", \"wb\") as file:\n",
    "    pickle.dump(vectorizer, file)\n",
    "\n",
    "print(\"Vectorizer saved successfully!\")\n"
   ]
  },
  {
   "cell_type": "code",
   "execution_count": null,
   "metadata": {},
   "outputs": [],
   "source": []
  }
 ],
 "metadata": {
  "kernelspec": {
   "display_name": "Python 3",
   "language": "python",
   "name": "python3"
  },
  "language_info": {
   "codemirror_mode": {
    "name": "ipython",
    "version": 3
   },
   "file_extension": ".py",
   "mimetype": "text/x-python",
   "name": "python",
   "nbconvert_exporter": "python",
   "pygments_lexer": "ipython3",
   "version": "3.11.4"
  }
 },
 "nbformat": 4,
 "nbformat_minor": 2
}
